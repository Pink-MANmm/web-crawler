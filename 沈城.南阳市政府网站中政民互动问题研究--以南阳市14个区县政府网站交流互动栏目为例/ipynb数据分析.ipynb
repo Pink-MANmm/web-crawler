{
 "cells": [
  {
   "cell_type": "markdown",
   "id": "670b846f",
   "metadata": {},
   "source": [
    "<font size=5>以下默认为对最近三年的数据进行分析，即2022、2021、2020年的数据分析</font>"
   ]
  },
  {
   "cell_type": "code",
   "execution_count": 1,
   "id": "ded4393a",
   "metadata": {},
   "outputs": [],
   "source": [
    "import pandas as pd\n",
    "import numpy as np\n",
    "import matplotlib.pyplot as plt\n",
    "import matplotlib\n",
    "%matplotlib inline"
   ]
  },
  {
   "cell_type": "code",
   "execution_count": 2,
   "id": "d258a930",
   "metadata": {},
   "outputs": [],
   "source": [
    "data=pd.read_excel('./hd.xlsx')"
   ]
  },
  {
   "cell_type": "code",
   "execution_count": 3,
   "id": "e8192e60",
   "metadata": {},
   "outputs": [
    {
     "data": {
      "text/html": [
       "<div>\n",
       "<style scoped>\n",
       "    .dataframe tbody tr th:only-of-type {\n",
       "        vertical-align: middle;\n",
       "    }\n",
       "\n",
       "    .dataframe tbody tr th {\n",
       "        vertical-align: top;\n",
       "    }\n",
       "\n",
       "    .dataframe thead th {\n",
       "        text-align: right;\n",
       "    }\n",
       "</style>\n",
       "<table border=\"1\" class=\"dataframe\">\n",
       "  <thead>\n",
       "    <tr style=\"text-align: right;\">\n",
       "      <th></th>\n",
       "      <th>0</th>\n",
       "      <th>1</th>\n",
       "      <th>2</th>\n",
       "      <th>3</th>\n",
       "      <th>4</th>\n",
       "    </tr>\n",
       "  </thead>\n",
       "  <tbody>\n",
       "    <tr>\n",
       "      <th>Unnamed: 0</th>\n",
       "      <td>0</td>\n",
       "      <td>1</td>\n",
       "      <td>2</td>\n",
       "      <td>3</td>\n",
       "      <td>4</td>\n",
       "    </tr>\n",
       "    <tr>\n",
       "      <th>consultCategory</th>\n",
       "      <td>投诉</td>\n",
       "      <td>投诉</td>\n",
       "      <td>投诉</td>\n",
       "      <td>投诉</td>\n",
       "      <td>投诉</td>\n",
       "    </tr>\n",
       "    <tr>\n",
       "      <th>consultTitle</th>\n",
       "      <td>公共道路被私人安装栅栏上锁禁止通行</td>\n",
       "      <td>南阳汉冶特钢固废垃圾乱倒</td>\n",
       "      <td>蒲山镇姚亮小学</td>\n",
       "      <td>举报信</td>\n",
       "      <td>黄码转码多次反馈无果，无法正常出行上班</td>\n",
       "    </tr>\n",
       "    <tr>\n",
       "      <th>consultName</th>\n",
       "      <td>张静</td>\n",
       "      <td>杜长建</td>\n",
       "      <td>崔某某</td>\n",
       "      <td>李进修</td>\n",
       "      <td>高红兵</td>\n",
       "    </tr>\n",
       "    <tr>\n",
       "      <th>consultDate</th>\n",
       "      <td>2022-05-12</td>\n",
       "      <td>2022-05-12</td>\n",
       "      <td>2022-05-12</td>\n",
       "      <td>2022-05-12</td>\n",
       "      <td>2022-05-12</td>\n",
       "    </tr>\n",
       "    <tr>\n",
       "      <th>consultId</th>\n",
       "      <td>720774</td>\n",
       "      <td>720764</td>\n",
       "      <td>720762</td>\n",
       "      <td>720761</td>\n",
       "      <td>720758</td>\n",
       "    </tr>\n",
       "    <tr>\n",
       "      <th>consultDepartment</th>\n",
       "      <td>卧龙区政府</td>\n",
       "      <td>西峡县政府</td>\n",
       "      <td>卧龙区政府</td>\n",
       "      <td>南阳银保监分局</td>\n",
       "      <td>卫健体委</td>\n",
       "    </tr>\n",
       "    <tr>\n",
       "      <th>consultState</th>\n",
       "      <td>已回复</td>\n",
       "      <td>已回复</td>\n",
       "      <td>已回复</td>\n",
       "      <td>已回复</td>\n",
       "      <td>已回复</td>\n",
       "    </tr>\n",
       "    <tr>\n",
       "      <th>consultContent</th>\n",
       "      <td>月日起第五完全学校小学和初中部后门通往杜诗路的公共道路被私人设立安装了栅栏并上锁禁止任何行人...</td>\n",
       "      <td>南阳汉冶特钢有限公司将不用的或者废旧的玻璃纤维保温棉俗称岩棉直接倒在西峡县回车镇古庄河村竹园...</td>\n",
       "      <td>姚亮小学外边道路附近居民大货车占道导致接送学生交通拥堵</td>\n",
       "      <td>尊敬的领导你们好首先感谢您们关注我反映的问题烦扰之处尚请见解我叫李进修家住回车镇屈原岗村前街...</td>\n",
       "      <td>领导你好本人月日从南阳返郑到月日健康码正常绿色在月日南阳市把我健康码推送为黄码发现后及时与郑...</td>\n",
       "    </tr>\n",
       "    <tr>\n",
       "      <th>answerDepartment</th>\n",
       "      <td>卧龙区政府</td>\n",
       "      <td>西峡县政府</td>\n",
       "      <td>卧龙区政府</td>\n",
       "      <td>NaN</td>\n",
       "      <td>卫健体委</td>\n",
       "    </tr>\n",
       "    <tr>\n",
       "      <th>answerDate</th>\n",
       "      <td>2022-05-27 15:28:03</td>\n",
       "      <td>2022-05-17 11:19:12</td>\n",
       "      <td>2022-05-17 08:05:26</td>\n",
       "      <td>NaN</td>\n",
       "      <td>2022-05-19 09:09:43</td>\n",
       "    </tr>\n",
       "    <tr>\n",
       "      <th>answerContent</th>\n",
       "      <td>经调查该处位于学校外围且不是主要道路晚上存在安全隐患同时又经常有人在此处倾倒建筑垃圾为了加强...</td>\n",
       "      <td>网友您好您所反映的问题经回车镇政府调查现回复如下回车镇环保办和村两委第一时间到达现场了解情况...</td>\n",
       "      <td>网友你好你所反映的问题将责成相关单位调查处理感谢您对市长留言板的支持和关注</td>\n",
       "      <td>NaN</td>\n",
       "      <td>您好赋码转码由市政数局具体负责建议向市政数局或市疫情防控指挥部反映指挥部电话</td>\n",
       "    </tr>\n",
       "  </tbody>\n",
       "</table>\n",
       "</div>"
      ],
      "text/plain": [
       "                                                                   0  \\\n",
       "Unnamed: 0                                                         0   \n",
       "consultCategory                                                   投诉   \n",
       "consultTitle                                       公共道路被私人安装栅栏上锁禁止通行   \n",
       "consultName                                                       张静   \n",
       "consultDate                                               2022-05-12   \n",
       "consultId                                                     720774   \n",
       "consultDepartment                                              卧龙区政府   \n",
       "consultState                                                     已回复   \n",
       "consultContent     月日起第五完全学校小学和初中部后门通往杜诗路的公共道路被私人设立安装了栅栏并上锁禁止任何行人...   \n",
       "answerDepartment                                               卧龙区政府   \n",
       "answerDate                                       2022-05-27 15:28:03   \n",
       "answerContent      经调查该处位于学校外围且不是主要道路晚上存在安全隐患同时又经常有人在此处倾倒建筑垃圾为了加强...   \n",
       "\n",
       "                                                                   1  \\\n",
       "Unnamed: 0                                                         1   \n",
       "consultCategory                                                   投诉   \n",
       "consultTitle                                            南阳汉冶特钢固废垃圾乱倒   \n",
       "consultName                                                      杜长建   \n",
       "consultDate                                               2022-05-12   \n",
       "consultId                                                     720764   \n",
       "consultDepartment                                              西峡县政府   \n",
       "consultState                                                     已回复   \n",
       "consultContent     南阳汉冶特钢有限公司将不用的或者废旧的玻璃纤维保温棉俗称岩棉直接倒在西峡县回车镇古庄河村竹园...   \n",
       "answerDepartment                                               西峡县政府   \n",
       "answerDate                                       2022-05-17 11:19:12   \n",
       "answerContent      网友您好您所反映的问题经回车镇政府调查现回复如下回车镇环保办和村两委第一时间到达现场了解情况...   \n",
       "\n",
       "                                                       2  \\\n",
       "Unnamed: 0                                             2   \n",
       "consultCategory                                       投诉   \n",
       "consultTitle                                     蒲山镇姚亮小学   \n",
       "consultName                                          崔某某   \n",
       "consultDate                                   2022-05-12   \n",
       "consultId                                         720762   \n",
       "consultDepartment                                  卧龙区政府   \n",
       "consultState                                         已回复   \n",
       "consultContent               姚亮小学外边道路附近居民大货车占道导致接送学生交通拥堵   \n",
       "answerDepartment                                   卧龙区政府   \n",
       "answerDate                           2022-05-17 08:05:26   \n",
       "answerContent      网友你好你所反映的问题将责成相关单位调查处理感谢您对市长留言板的支持和关注   \n",
       "\n",
       "                                                                   3  \\\n",
       "Unnamed: 0                                                         3   \n",
       "consultCategory                                                   投诉   \n",
       "consultTitle                                                     举报信   \n",
       "consultName                                                      李进修   \n",
       "consultDate                                               2022-05-12   \n",
       "consultId                                                     720761   \n",
       "consultDepartment                                            南阳银保监分局   \n",
       "consultState                                                     已回复   \n",
       "consultContent     尊敬的领导你们好首先感谢您们关注我反映的问题烦扰之处尚请见解我叫李进修家住回车镇屈原岗村前街...   \n",
       "answerDepartment                                                 NaN   \n",
       "answerDate                                                       NaN   \n",
       "answerContent                                                    NaN   \n",
       "\n",
       "                                                                   4  \n",
       "Unnamed: 0                                                         4  \n",
       "consultCategory                                                   投诉  \n",
       "consultTitle                                     黄码转码多次反馈无果，无法正常出行上班  \n",
       "consultName                                                      高红兵  \n",
       "consultDate                                               2022-05-12  \n",
       "consultId                                                     720758  \n",
       "consultDepartment                                               卫健体委  \n",
       "consultState                                                     已回复  \n",
       "consultContent     领导你好本人月日从南阳返郑到月日健康码正常绿色在月日南阳市把我健康码推送为黄码发现后及时与郑...  \n",
       "answerDepartment                                                卫健体委  \n",
       "answerDate                                       2022-05-19 09:09:43  \n",
       "answerContent                 您好赋码转码由市政数局具体负责建议向市政数局或市疫情防控指挥部反映指挥部电话  "
      ]
     },
     "execution_count": 3,
     "metadata": {},
     "output_type": "execute_result"
    }
   ],
   "source": [
    "data.head().T"
   ]
  },
  {
   "cell_type": "code",
   "execution_count": 4,
   "id": "d9d6f5d6",
   "metadata": {},
   "outputs": [
    {
     "data": {
      "text/html": [
       "<div>\n",
       "<style scoped>\n",
       "    .dataframe tbody tr th:only-of-type {\n",
       "        vertical-align: middle;\n",
       "    }\n",
       "\n",
       "    .dataframe tbody tr th {\n",
       "        vertical-align: top;\n",
       "    }\n",
       "\n",
       "    .dataframe thead th {\n",
       "        text-align: right;\n",
       "    }\n",
       "</style>\n",
       "<table border=\"1\" class=\"dataframe\">\n",
       "  <thead>\n",
       "    <tr style=\"text-align: right;\">\n",
       "      <th></th>\n",
       "      <th>Unnamed: 0</th>\n",
       "      <th>consultId</th>\n",
       "    </tr>\n",
       "  </thead>\n",
       "  <tbody>\n",
       "    <tr>\n",
       "      <th>count</th>\n",
       "      <td>6840.000000</td>\n",
       "      <td>6840.000000</td>\n",
       "    </tr>\n",
       "    <tr>\n",
       "      <th>mean</th>\n",
       "      <td>3419.500000</td>\n",
       "      <td>708279.239035</td>\n",
       "    </tr>\n",
       "    <tr>\n",
       "      <th>std</th>\n",
       "      <td>1974.682253</td>\n",
       "      <td>6165.752631</td>\n",
       "    </tr>\n",
       "    <tr>\n",
       "      <th>min</th>\n",
       "      <td>0.000000</td>\n",
       "      <td>698957.000000</td>\n",
       "    </tr>\n",
       "    <tr>\n",
       "      <th>25%</th>\n",
       "      <td>1709.750000</td>\n",
       "      <td>703015.750000</td>\n",
       "    </tr>\n",
       "    <tr>\n",
       "      <th>50%</th>\n",
       "      <td>3419.500000</td>\n",
       "      <td>706639.500000</td>\n",
       "    </tr>\n",
       "    <tr>\n",
       "      <th>75%</th>\n",
       "      <td>5129.250000</td>\n",
       "      <td>713624.500000</td>\n",
       "    </tr>\n",
       "    <tr>\n",
       "      <th>max</th>\n",
       "      <td>6839.000000</td>\n",
       "      <td>720774.000000</td>\n",
       "    </tr>\n",
       "  </tbody>\n",
       "</table>\n",
       "</div>"
      ],
      "text/plain": [
       "        Unnamed: 0      consultId\n",
       "count  6840.000000    6840.000000\n",
       "mean   3419.500000  708279.239035\n",
       "std    1974.682253    6165.752631\n",
       "min       0.000000  698957.000000\n",
       "25%    1709.750000  703015.750000\n",
       "50%    3419.500000  706639.500000\n",
       "75%    5129.250000  713624.500000\n",
       "max    6839.000000  720774.000000"
      ]
     },
     "execution_count": 4,
     "metadata": {},
     "output_type": "execute_result"
    }
   ],
   "source": [
    "data.describe()"
   ]
  },
  {
   "cell_type": "code",
   "execution_count": 5,
   "id": "d53a9db3",
   "metadata": {},
   "outputs": [
    {
     "name": "stdout",
     "output_type": "stream",
     "text": [
      "<class 'pandas.core.frame.DataFrame'>\n",
      "RangeIndex: 6840 entries, 0 to 6839\n",
      "Data columns (total 12 columns):\n",
      " #   Column             Non-Null Count  Dtype \n",
      "---  ------             --------------  ----- \n",
      " 0   Unnamed: 0         6840 non-null   int64 \n",
      " 1   consultCategory    6840 non-null   object\n",
      " 2   consultTitle       6840 non-null   object\n",
      " 3   consultName        6695 non-null   object\n",
      " 4   consultDate        6840 non-null   object\n",
      " 5   consultId          6840 non-null   int64 \n",
      " 6   consultDepartment  6840 non-null   object\n",
      " 7   consultState       6840 non-null   object\n",
      " 8   consultContent     6840 non-null   object\n",
      " 9   answerDepartment   6664 non-null   object\n",
      " 10  answerDate         6664 non-null   object\n",
      " 11  answerContent      6664 non-null   object\n",
      "dtypes: int64(2), object(10)\n",
      "memory usage: 641.4+ KB\n"
     ]
    }
   ],
   "source": [
    "data.info()"
   ]
  },
  {
   "cell_type": "code",
   "execution_count": 6,
   "id": "d131fc90",
   "metadata": {},
   "outputs": [],
   "source": [
    "usedData=data[['consultCategory','consultDepartment','consultState','consultDate','answerDepartment']]"
   ]
  },
  {
   "cell_type": "code",
   "execution_count": 7,
   "id": "ff836862",
   "metadata": {},
   "outputs": [
    {
     "data": {
      "text/html": [
       "<div>\n",
       "<style scoped>\n",
       "    .dataframe tbody tr th:only-of-type {\n",
       "        vertical-align: middle;\n",
       "    }\n",
       "\n",
       "    .dataframe tbody tr th {\n",
       "        vertical-align: top;\n",
       "    }\n",
       "\n",
       "    .dataframe thead th {\n",
       "        text-align: right;\n",
       "    }\n",
       "</style>\n",
       "<table border=\"1\" class=\"dataframe\">\n",
       "  <thead>\n",
       "    <tr style=\"text-align: right;\">\n",
       "      <th></th>\n",
       "      <th>consultCategory</th>\n",
       "      <th>consultDepartment</th>\n",
       "      <th>consultState</th>\n",
       "      <th>consultDate</th>\n",
       "      <th>answerDepartment</th>\n",
       "    </tr>\n",
       "  </thead>\n",
       "  <tbody>\n",
       "    <tr>\n",
       "      <th>0</th>\n",
       "      <td>投诉</td>\n",
       "      <td>卧龙区政府</td>\n",
       "      <td>已回复</td>\n",
       "      <td>2022-05-12</td>\n",
       "      <td>卧龙区政府</td>\n",
       "    </tr>\n",
       "    <tr>\n",
       "      <th>1</th>\n",
       "      <td>投诉</td>\n",
       "      <td>西峡县政府</td>\n",
       "      <td>已回复</td>\n",
       "      <td>2022-05-12</td>\n",
       "      <td>西峡县政府</td>\n",
       "    </tr>\n",
       "    <tr>\n",
       "      <th>2</th>\n",
       "      <td>投诉</td>\n",
       "      <td>卧龙区政府</td>\n",
       "      <td>已回复</td>\n",
       "      <td>2022-05-12</td>\n",
       "      <td>卧龙区政府</td>\n",
       "    </tr>\n",
       "    <tr>\n",
       "      <th>3</th>\n",
       "      <td>投诉</td>\n",
       "      <td>南阳银保监分局</td>\n",
       "      <td>已回复</td>\n",
       "      <td>2022-05-12</td>\n",
       "      <td>NaN</td>\n",
       "    </tr>\n",
       "    <tr>\n",
       "      <th>4</th>\n",
       "      <td>投诉</td>\n",
       "      <td>卫健体委</td>\n",
       "      <td>已回复</td>\n",
       "      <td>2022-05-12</td>\n",
       "      <td>卫健体委</td>\n",
       "    </tr>\n",
       "  </tbody>\n",
       "</table>\n",
       "</div>"
      ],
      "text/plain": [
       "  consultCategory consultDepartment consultState consultDate answerDepartment\n",
       "0              投诉             卧龙区政府          已回复  2022-05-12            卧龙区政府\n",
       "1              投诉             西峡县政府          已回复  2022-05-12            西峡县政府\n",
       "2              投诉             卧龙区政府          已回复  2022-05-12            卧龙区政府\n",
       "3              投诉           南阳银保监分局          已回复  2022-05-12              NaN\n",
       "4              投诉              卫健体委          已回复  2022-05-12             卫健体委"
      ]
     },
     "execution_count": 7,
     "metadata": {},
     "output_type": "execute_result"
    }
   ],
   "source": [
    "usedData.head()"
   ]
  },
  {
   "cell_type": "code",
   "execution_count": 8,
   "id": "61c9b4ce",
   "metadata": {},
   "outputs": [
    {
     "name": "stdout",
     "output_type": "stream",
     "text": [
      "<class 'pandas.core.frame.DataFrame'>\n",
      "RangeIndex: 6840 entries, 0 to 6839\n",
      "Data columns (total 5 columns):\n",
      " #   Column             Non-Null Count  Dtype \n",
      "---  ------             --------------  ----- \n",
      " 0   consultCategory    6840 non-null   object\n",
      " 1   consultDepartment  6840 non-null   object\n",
      " 2   consultState       6840 non-null   object\n",
      " 3   consultDate        6840 non-null   object\n",
      " 4   answerDepartment   6664 non-null   object\n",
      "dtypes: object(5)\n",
      "memory usage: 267.3+ KB\n"
     ]
    }
   ],
   "source": [
    "usedData.info()"
   ]
  },
  {
   "cell_type": "markdown",
   "id": "4692b88f",
   "metadata": {},
   "source": [
    "   \n",
    "    \n",
    "<font size=5 face=雅黑>\n",
    "    缺失值\n",
    "</font>"
   ]
  },
  {
   "cell_type": "code",
   "execution_count": 9,
   "id": "c32d48e4",
   "metadata": {},
   "outputs": [
    {
     "data": {
      "text/plain": [
       "consultCategory        0\n",
       "consultDepartment      0\n",
       "consultState           0\n",
       "consultDate            0\n",
       "answerDepartment     176\n",
       "dtype: int64"
      ]
     },
     "execution_count": 9,
     "metadata": {},
     "output_type": "execute_result"
    }
   ],
   "source": [
    "(usedData.isnull()).sum()"
   ]
  },
  {
   "cell_type": "code",
   "execution_count": 10,
   "id": "16d825c9",
   "metadata": {},
   "outputs": [
    {
     "data": {
      "text/html": [
       "<div>\n",
       "<style scoped>\n",
       "    .dataframe tbody tr th:only-of-type {\n",
       "        vertical-align: middle;\n",
       "    }\n",
       "\n",
       "    .dataframe tbody tr th {\n",
       "        vertical-align: top;\n",
       "    }\n",
       "\n",
       "    .dataframe thead th {\n",
       "        text-align: right;\n",
       "    }\n",
       "</style>\n",
       "<table border=\"1\" class=\"dataframe\">\n",
       "  <thead>\n",
       "    <tr style=\"text-align: right;\">\n",
       "      <th></th>\n",
       "      <th>consultCategory</th>\n",
       "      <th>consultDepartment</th>\n",
       "      <th>consultState</th>\n",
       "      <th>consultDate</th>\n",
       "      <th>answerDepartment</th>\n",
       "    </tr>\n",
       "  </thead>\n",
       "  <tbody>\n",
       "    <tr>\n",
       "      <th>3</th>\n",
       "      <td>投诉</td>\n",
       "      <td>南阳银保监分局</td>\n",
       "      <td>已回复</td>\n",
       "      <td>2022-05-12</td>\n",
       "      <td>NaN</td>\n",
       "    </tr>\n",
       "    <tr>\n",
       "      <th>70</th>\n",
       "      <td>求助</td>\n",
       "      <td>桐柏县政府</td>\n",
       "      <td>未受理</td>\n",
       "      <td>2022-05-09</td>\n",
       "      <td>NaN</td>\n",
       "    </tr>\n",
       "    <tr>\n",
       "      <th>127</th>\n",
       "      <td>建议</td>\n",
       "      <td>公安局</td>\n",
       "      <td>已受理</td>\n",
       "      <td>2022-05-05</td>\n",
       "      <td>NaN</td>\n",
       "    </tr>\n",
       "    <tr>\n",
       "      <th>131</th>\n",
       "      <td>投诉</td>\n",
       "      <td>公安局</td>\n",
       "      <td>已受理</td>\n",
       "      <td>2022-05-05</td>\n",
       "      <td>NaN</td>\n",
       "    </tr>\n",
       "    <tr>\n",
       "      <th>138</th>\n",
       "      <td>举报</td>\n",
       "      <td>桐柏县政府</td>\n",
       "      <td>未受理</td>\n",
       "      <td>2022-05-05</td>\n",
       "      <td>NaN</td>\n",
       "    </tr>\n",
       "    <tr>\n",
       "      <th>...</th>\n",
       "      <td>...</td>\n",
       "      <td>...</td>\n",
       "      <td>...</td>\n",
       "      <td>...</td>\n",
       "      <td>...</td>\n",
       "    </tr>\n",
       "    <tr>\n",
       "      <th>6568</th>\n",
       "      <td>求助</td>\n",
       "      <td>南阳农业职业学院</td>\n",
       "      <td>未受理</td>\n",
       "      <td>2021-01-23</td>\n",
       "      <td>NaN</td>\n",
       "    </tr>\n",
       "    <tr>\n",
       "      <th>6671</th>\n",
       "      <td>投诉</td>\n",
       "      <td>鸭河工区管委会</td>\n",
       "      <td>已回复</td>\n",
       "      <td>2021-01-14</td>\n",
       "      <td>NaN</td>\n",
       "    </tr>\n",
       "    <tr>\n",
       "      <th>6674</th>\n",
       "      <td>求助</td>\n",
       "      <td>鸭河工区管委会</td>\n",
       "      <td>已回复</td>\n",
       "      <td>2021-01-14</td>\n",
       "      <td>NaN</td>\n",
       "    </tr>\n",
       "    <tr>\n",
       "      <th>6715</th>\n",
       "      <td>投诉</td>\n",
       "      <td>鸭河工区管委会</td>\n",
       "      <td>已回复</td>\n",
       "      <td>2021-01-12</td>\n",
       "      <td>NaN</td>\n",
       "    </tr>\n",
       "    <tr>\n",
       "      <th>6727</th>\n",
       "      <td>求助</td>\n",
       "      <td>鸭河工区管委会</td>\n",
       "      <td>已回复</td>\n",
       "      <td>2021-01-11</td>\n",
       "      <td>NaN</td>\n",
       "    </tr>\n",
       "  </tbody>\n",
       "</table>\n",
       "<p>176 rows × 5 columns</p>\n",
       "</div>"
      ],
      "text/plain": [
       "     consultCategory consultDepartment consultState consultDate  \\\n",
       "3                 投诉           南阳银保监分局          已回复  2022-05-12   \n",
       "70                求助             桐柏县政府          未受理  2022-05-09   \n",
       "127               建议               公安局          已受理  2022-05-05   \n",
       "131               投诉               公安局          已受理  2022-05-05   \n",
       "138               举报             桐柏县政府          未受理  2022-05-05   \n",
       "...              ...               ...          ...         ...   \n",
       "6568              求助          南阳农业职业学院          未受理  2021-01-23   \n",
       "6671              投诉           鸭河工区管委会          已回复  2021-01-14   \n",
       "6674              求助           鸭河工区管委会          已回复  2021-01-14   \n",
       "6715              投诉           鸭河工区管委会          已回复  2021-01-12   \n",
       "6727              求助           鸭河工区管委会          已回复  2021-01-11   \n",
       "\n",
       "     answerDepartment  \n",
       "3                 NaN  \n",
       "70                NaN  \n",
       "127               NaN  \n",
       "131               NaN  \n",
       "138               NaN  \n",
       "...               ...  \n",
       "6568              NaN  \n",
       "6671              NaN  \n",
       "6674              NaN  \n",
       "6715              NaN  \n",
       "6727              NaN  \n",
       "\n",
       "[176 rows x 5 columns]"
      ]
     },
     "execution_count": 10,
     "metadata": {},
     "output_type": "execute_result"
    }
   ],
   "source": [
    "usedData[usedData.answerDepartment.isnull()]"
   ]
  },
  {
   "cell_type": "code",
   "execution_count": 11,
   "id": "1d32684e",
   "metadata": {},
   "outputs": [
    {
     "name": "stderr",
     "output_type": "stream",
     "text": [
      "C:\\Users\\86152\\AppData\\Local\\Temp\\ipykernel_17796\\2911082158.py:1: SettingWithCopyWarning: \n",
      "A value is trying to be set on a copy of a slice from a DataFrame\n",
      "\n",
      "See the caveats in the documentation: https://pandas.pydata.org/pandas-docs/stable/user_guide/indexing.html#returning-a-view-versus-a-copy\n",
      "  usedData.dropna(how='all',inplace=True)\n"
     ]
    }
   ],
   "source": [
    "usedData.dropna(how='all',inplace=True)"
   ]
  },
  {
   "cell_type": "markdown",
   "id": "9acdcb83",
   "metadata": {},
   "source": [
    "<font size=5>此处困扰了我好久，我以为报错了，没有执行，结果我后来发现是all，因为排除后两条数据，前面的我还要用所以肯定删除不了，但把how的参数改成any就会删除掉，所以这一步还是正常执行了的</font>"
   ]
  },
  {
   "cell_type": "code",
   "execution_count": 12,
   "id": "0242979e",
   "metadata": {},
   "outputs": [
    {
     "data": {
      "text/plain": [
       "consultCategory        0\n",
       "consultDepartment      0\n",
       "consultState           0\n",
       "consultDate            0\n",
       "answerDepartment     176\n",
       "dtype: int64"
      ]
     },
     "execution_count": 12,
     "metadata": {},
     "output_type": "execute_result"
    }
   ],
   "source": [
    "(usedData.isnull()).sum()"
   ]
  },
  {
   "cell_type": "code",
   "execution_count": 13,
   "id": "a8105be5",
   "metadata": {},
   "outputs": [
    {
     "data": {
      "text/plain": [
       "consultCategory        0\n",
       "consultDepartment      0\n",
       "consultState           0\n",
       "consultDate            0\n",
       "answerDepartment     176\n",
       "dtype: int64"
      ]
     },
     "execution_count": 13,
     "metadata": {},
     "output_type": "execute_result"
    }
   ],
   "source": [
    "(usedData.isnull()).sum()"
   ]
  },
  {
   "cell_type": "markdown",
   "id": "ba519001",
   "metadata": {},
   "source": [
    "<font size=5>检验重复值</font>"
   ]
  },
  {
   "cell_type": "code",
   "execution_count": 14,
   "id": "83b05d9e",
   "metadata": {},
   "outputs": [
    {
     "data": {
      "text/plain": [
       "1056"
      ]
     },
     "execution_count": 14,
     "metadata": {},
     "output_type": "execute_result"
    }
   ],
   "source": [
    "(usedData.duplicated()).sum()"
   ]
  },
  {
   "cell_type": "markdown",
   "id": "c4e9fc48",
   "metadata": {},
   "source": [
    "<font size=3>默认将non值放在最后,并根据非空数据进行查重</font>"
   ]
  },
  {
   "cell_type": "code",
   "execution_count": 15,
   "id": "5bc74050",
   "metadata": {},
   "outputs": [
    {
     "name": "stderr",
     "output_type": "stream",
     "text": [
      "C:\\Users\\86152\\AppData\\Local\\Temp\\ipykernel_17796\\3850634888.py:1: SettingWithCopyWarning: \n",
      "A value is trying to be set on a copy of a slice from a DataFrame\n",
      "\n",
      "See the caveats in the documentation: https://pandas.pydata.org/pandas-docs/stable/user_guide/indexing.html#returning-a-view-versus-a-copy\n",
      "  usedData.sort_values(by='answerDepartment',inplace=True)\n"
     ]
    }
   ],
   "source": [
    "usedData.sort_values(by='answerDepartment',inplace=True)"
   ]
  },
  {
   "cell_type": "code",
   "execution_count": 16,
   "id": "6680c6a6",
   "metadata": {},
   "outputs": [
    {
     "data": {
      "text/html": [
       "<div>\n",
       "<style scoped>\n",
       "    .dataframe tbody tr th:only-of-type {\n",
       "        vertical-align: middle;\n",
       "    }\n",
       "\n",
       "    .dataframe tbody tr th {\n",
       "        vertical-align: top;\n",
       "    }\n",
       "\n",
       "    .dataframe thead th {\n",
       "        text-align: right;\n",
       "    }\n",
       "</style>\n",
       "<table border=\"1\" class=\"dataframe\">\n",
       "  <thead>\n",
       "    <tr style=\"text-align: right;\">\n",
       "      <th></th>\n",
       "      <th>consultCategory</th>\n",
       "      <th>consultDepartment</th>\n",
       "      <th>consultState</th>\n",
       "      <th>consultDate</th>\n",
       "      <th>answerDepartment</th>\n",
       "    </tr>\n",
       "  </thead>\n",
       "  <tbody>\n",
       "    <tr>\n",
       "      <th>4997</th>\n",
       "      <td>投诉</td>\n",
       "      <td>不动产登记中心</td>\n",
       "      <td>已回复</td>\n",
       "      <td>2021-05-26</td>\n",
       "      <td>不动产登记中心</td>\n",
       "    </tr>\n",
       "    <tr>\n",
       "      <th>4206</th>\n",
       "      <td>投诉</td>\n",
       "      <td>不动产登记中心</td>\n",
       "      <td>已回复</td>\n",
       "      <td>2021-07-11</td>\n",
       "      <td>不动产登记中心</td>\n",
       "    </tr>\n",
       "    <tr>\n",
       "      <th>5748</th>\n",
       "      <td>投诉</td>\n",
       "      <td>不动产登记中心</td>\n",
       "      <td>已回复</td>\n",
       "      <td>2021-04-02</td>\n",
       "      <td>不动产登记中心</td>\n",
       "    </tr>\n",
       "    <tr>\n",
       "      <th>4160</th>\n",
       "      <td>投诉</td>\n",
       "      <td>不动产登记中心</td>\n",
       "      <td>已回复</td>\n",
       "      <td>2021-07-13</td>\n",
       "      <td>不动产登记中心</td>\n",
       "    </tr>\n",
       "    <tr>\n",
       "      <th>5763</th>\n",
       "      <td>求助</td>\n",
       "      <td>不动产登记中心</td>\n",
       "      <td>已回复</td>\n",
       "      <td>2021-04-01</td>\n",
       "      <td>不动产登记中心</td>\n",
       "    </tr>\n",
       "    <tr>\n",
       "      <th>...</th>\n",
       "      <td>...</td>\n",
       "      <td>...</td>\n",
       "      <td>...</td>\n",
       "      <td>...</td>\n",
       "      <td>...</td>\n",
       "    </tr>\n",
       "    <tr>\n",
       "      <th>6568</th>\n",
       "      <td>求助</td>\n",
       "      <td>南阳农业职业学院</td>\n",
       "      <td>未受理</td>\n",
       "      <td>2021-01-23</td>\n",
       "      <td>NaN</td>\n",
       "    </tr>\n",
       "    <tr>\n",
       "      <th>6671</th>\n",
       "      <td>投诉</td>\n",
       "      <td>鸭河工区管委会</td>\n",
       "      <td>已回复</td>\n",
       "      <td>2021-01-14</td>\n",
       "      <td>NaN</td>\n",
       "    </tr>\n",
       "    <tr>\n",
       "      <th>6674</th>\n",
       "      <td>求助</td>\n",
       "      <td>鸭河工区管委会</td>\n",
       "      <td>已回复</td>\n",
       "      <td>2021-01-14</td>\n",
       "      <td>NaN</td>\n",
       "    </tr>\n",
       "    <tr>\n",
       "      <th>6715</th>\n",
       "      <td>投诉</td>\n",
       "      <td>鸭河工区管委会</td>\n",
       "      <td>已回复</td>\n",
       "      <td>2021-01-12</td>\n",
       "      <td>NaN</td>\n",
       "    </tr>\n",
       "    <tr>\n",
       "      <th>6727</th>\n",
       "      <td>求助</td>\n",
       "      <td>鸭河工区管委会</td>\n",
       "      <td>已回复</td>\n",
       "      <td>2021-01-11</td>\n",
       "      <td>NaN</td>\n",
       "    </tr>\n",
       "  </tbody>\n",
       "</table>\n",
       "<p>6840 rows × 5 columns</p>\n",
       "</div>"
      ],
      "text/plain": [
       "     consultCategory consultDepartment consultState consultDate  \\\n",
       "4997              投诉           不动产登记中心          已回复  2021-05-26   \n",
       "4206              投诉           不动产登记中心          已回复  2021-07-11   \n",
       "5748              投诉           不动产登记中心          已回复  2021-04-02   \n",
       "4160              投诉           不动产登记中心          已回复  2021-07-13   \n",
       "5763              求助           不动产登记中心          已回复  2021-04-01   \n",
       "...              ...               ...          ...         ...   \n",
       "6568              求助          南阳农业职业学院          未受理  2021-01-23   \n",
       "6671              投诉           鸭河工区管委会          已回复  2021-01-14   \n",
       "6674              求助           鸭河工区管委会          已回复  2021-01-14   \n",
       "6715              投诉           鸭河工区管委会          已回复  2021-01-12   \n",
       "6727              求助           鸭河工区管委会          已回复  2021-01-11   \n",
       "\n",
       "     answerDepartment  \n",
       "4997          不动产登记中心  \n",
       "4206          不动产登记中心  \n",
       "5748          不动产登记中心  \n",
       "4160          不动产登记中心  \n",
       "5763          不动产登记中心  \n",
       "...               ...  \n",
       "6568              NaN  \n",
       "6671              NaN  \n",
       "6674              NaN  \n",
       "6715              NaN  \n",
       "6727              NaN  \n",
       "\n",
       "[6840 rows x 5 columns]"
      ]
     },
     "execution_count": 16,
     "metadata": {},
     "output_type": "execute_result"
    }
   ],
   "source": [
    "usedData"
   ]
  },
  {
   "cell_type": "code",
   "execution_count": 17,
   "id": "cf3144f4",
   "metadata": {},
   "outputs": [
    {
     "name": "stderr",
     "output_type": "stream",
     "text": [
      "C:\\Users\\86152\\AppData\\Local\\Temp\\ipykernel_17796\\4156480254.py:1: SettingWithCopyWarning: \n",
      "A value is trying to be set on a copy of a slice from a DataFrame\n",
      "\n",
      "See the caveats in the documentation: https://pandas.pydata.org/pandas-docs/stable/user_guide/indexing.html#returning-a-view-versus-a-copy\n",
      "  usedData.drop_duplicates(inplace=True)\n"
     ]
    }
   ],
   "source": [
    "usedData.drop_duplicates(inplace=True)"
   ]
  },
  {
   "cell_type": "code",
   "execution_count": 18,
   "id": "a24f90e9",
   "metadata": {},
   "outputs": [
    {
     "data": {
      "text/plain": [
       "4997    [2021, 05, 26]\n",
       "4206    [2021, 07, 11]\n",
       "5748    [2021, 04, 02]\n",
       "4160    [2021, 07, 13]\n",
       "5763    [2021, 04, 01]\n",
       "             ...      \n",
       "6568    [2021, 01, 23]\n",
       "6671    [2021, 01, 14]\n",
       "6674    [2021, 01, 14]\n",
       "6715    [2021, 01, 12]\n",
       "6727    [2021, 01, 11]\n",
       "Name: consultDate, Length: 5784, dtype: object"
      ]
     },
     "execution_count": 18,
     "metadata": {},
     "output_type": "execute_result"
    }
   ],
   "source": [
    "usedData.consultDate.str.split('-')"
   ]
  },
  {
   "cell_type": "code",
   "execution_count": 19,
   "id": "e6193bd7",
   "metadata": {},
   "outputs": [],
   "source": [
    "usedData=usedData.assign(mounth=usedData.consultDate.map(lambda x:x.split('-')[1]).map(lambda x:x[1] if x[0]=='0' else x))"
   ]
  },
  {
   "cell_type": "code",
   "execution_count": 20,
   "id": "3dbdf28c",
   "metadata": {},
   "outputs": [],
   "source": [
    "usedData=usedData.assign(year=usedData.consultDate.map(lambda x:x.split('-')[0]))"
   ]
  },
  {
   "cell_type": "code",
   "execution_count": 21,
   "id": "8edd7fdc",
   "metadata": {},
   "outputs": [],
   "source": [
    "usedData=usedData.assign(mounth=usedData.mounth.astype(int))"
   ]
  },
  {
   "cell_type": "code",
   "execution_count": 22,
   "id": "b287b310",
   "metadata": {},
   "outputs": [],
   "source": [
    "usedData=usedData.assign(year=usedData.year.astype(str))"
   ]
  },
  {
   "cell_type": "code",
   "execution_count": 23,
   "id": "d6298a63",
   "metadata": {},
   "outputs": [
    {
     "name": "stdout",
     "output_type": "stream",
     "text": [
      "<class 'pandas.core.frame.DataFrame'>\n",
      "Int64Index: 5784 entries, 4997 to 6727\n",
      "Data columns (total 7 columns):\n",
      " #   Column             Non-Null Count  Dtype \n",
      "---  ------             --------------  ----- \n",
      " 0   consultCategory    5784 non-null   object\n",
      " 1   consultDepartment  5784 non-null   object\n",
      " 2   consultState       5784 non-null   object\n",
      " 3   consultDate        5784 non-null   object\n",
      " 4   answerDepartment   5614 non-null   object\n",
      " 5   mounth             5784 non-null   int32 \n",
      " 6   year               5784 non-null   object\n",
      "dtypes: int32(1), object(6)\n",
      "memory usage: 338.9+ KB\n"
     ]
    }
   ],
   "source": [
    "usedData.info()"
   ]
  },
  {
   "cell_type": "code",
   "execution_count": 24,
   "id": "e7b83be3",
   "metadata": {},
   "outputs": [
    {
     "data": {
      "text/html": [
       "<div>\n",
       "<style scoped>\n",
       "    .dataframe tbody tr th:only-of-type {\n",
       "        vertical-align: middle;\n",
       "    }\n",
       "\n",
       "    .dataframe tbody tr th {\n",
       "        vertical-align: top;\n",
       "    }\n",
       "\n",
       "    .dataframe thead th {\n",
       "        text-align: right;\n",
       "    }\n",
       "</style>\n",
       "<table border=\"1\" class=\"dataframe\">\n",
       "  <thead>\n",
       "    <tr style=\"text-align: right;\">\n",
       "      <th></th>\n",
       "      <th>consultCategory</th>\n",
       "      <th>consultDepartment</th>\n",
       "      <th>consultState</th>\n",
       "      <th>consultDate</th>\n",
       "      <th>answerDepartment</th>\n",
       "      <th>mounth</th>\n",
       "      <th>year</th>\n",
       "      <th>举报</th>\n",
       "      <th>咨询</th>\n",
       "      <th>建议</th>\n",
       "      <th>投诉</th>\n",
       "      <th>求助</th>\n",
       "    </tr>\n",
       "  </thead>\n",
       "  <tbody>\n",
       "    <tr>\n",
       "      <th>4997</th>\n",
       "      <td>投诉</td>\n",
       "      <td>不动产登记中心</td>\n",
       "      <td>已回复</td>\n",
       "      <td>2021-05-26</td>\n",
       "      <td>不动产登记中心</td>\n",
       "      <td>5</td>\n",
       "      <td>2021</td>\n",
       "      <td>0</td>\n",
       "      <td>0</td>\n",
       "      <td>0</td>\n",
       "      <td>1</td>\n",
       "      <td>0</td>\n",
       "    </tr>\n",
       "    <tr>\n",
       "      <th>4206</th>\n",
       "      <td>投诉</td>\n",
       "      <td>不动产登记中心</td>\n",
       "      <td>已回复</td>\n",
       "      <td>2021-07-11</td>\n",
       "      <td>不动产登记中心</td>\n",
       "      <td>7</td>\n",
       "      <td>2021</td>\n",
       "      <td>0</td>\n",
       "      <td>0</td>\n",
       "      <td>0</td>\n",
       "      <td>1</td>\n",
       "      <td>0</td>\n",
       "    </tr>\n",
       "    <tr>\n",
       "      <th>5748</th>\n",
       "      <td>投诉</td>\n",
       "      <td>不动产登记中心</td>\n",
       "      <td>已回复</td>\n",
       "      <td>2021-04-02</td>\n",
       "      <td>不动产登记中心</td>\n",
       "      <td>4</td>\n",
       "      <td>2021</td>\n",
       "      <td>0</td>\n",
       "      <td>0</td>\n",
       "      <td>0</td>\n",
       "      <td>1</td>\n",
       "      <td>0</td>\n",
       "    </tr>\n",
       "    <tr>\n",
       "      <th>4160</th>\n",
       "      <td>投诉</td>\n",
       "      <td>不动产登记中心</td>\n",
       "      <td>已回复</td>\n",
       "      <td>2021-07-13</td>\n",
       "      <td>不动产登记中心</td>\n",
       "      <td>7</td>\n",
       "      <td>2021</td>\n",
       "      <td>0</td>\n",
       "      <td>0</td>\n",
       "      <td>0</td>\n",
       "      <td>1</td>\n",
       "      <td>0</td>\n",
       "    </tr>\n",
       "    <tr>\n",
       "      <th>5763</th>\n",
       "      <td>求助</td>\n",
       "      <td>不动产登记中心</td>\n",
       "      <td>已回复</td>\n",
       "      <td>2021-04-01</td>\n",
       "      <td>不动产登记中心</td>\n",
       "      <td>4</td>\n",
       "      <td>2021</td>\n",
       "      <td>0</td>\n",
       "      <td>0</td>\n",
       "      <td>0</td>\n",
       "      <td>0</td>\n",
       "      <td>1</td>\n",
       "    </tr>\n",
       "    <tr>\n",
       "      <th>...</th>\n",
       "      <td>...</td>\n",
       "      <td>...</td>\n",
       "      <td>...</td>\n",
       "      <td>...</td>\n",
       "      <td>...</td>\n",
       "      <td>...</td>\n",
       "      <td>...</td>\n",
       "      <td>...</td>\n",
       "      <td>...</td>\n",
       "      <td>...</td>\n",
       "      <td>...</td>\n",
       "      <td>...</td>\n",
       "    </tr>\n",
       "    <tr>\n",
       "      <th>6568</th>\n",
       "      <td>求助</td>\n",
       "      <td>南阳农业职业学院</td>\n",
       "      <td>未受理</td>\n",
       "      <td>2021-01-23</td>\n",
       "      <td>NaN</td>\n",
       "      <td>1</td>\n",
       "      <td>2021</td>\n",
       "      <td>0</td>\n",
       "      <td>0</td>\n",
       "      <td>0</td>\n",
       "      <td>0</td>\n",
       "      <td>1</td>\n",
       "    </tr>\n",
       "    <tr>\n",
       "      <th>6671</th>\n",
       "      <td>投诉</td>\n",
       "      <td>鸭河工区管委会</td>\n",
       "      <td>已回复</td>\n",
       "      <td>2021-01-14</td>\n",
       "      <td>NaN</td>\n",
       "      <td>1</td>\n",
       "      <td>2021</td>\n",
       "      <td>0</td>\n",
       "      <td>0</td>\n",
       "      <td>0</td>\n",
       "      <td>1</td>\n",
       "      <td>0</td>\n",
       "    </tr>\n",
       "    <tr>\n",
       "      <th>6674</th>\n",
       "      <td>求助</td>\n",
       "      <td>鸭河工区管委会</td>\n",
       "      <td>已回复</td>\n",
       "      <td>2021-01-14</td>\n",
       "      <td>NaN</td>\n",
       "      <td>1</td>\n",
       "      <td>2021</td>\n",
       "      <td>0</td>\n",
       "      <td>0</td>\n",
       "      <td>0</td>\n",
       "      <td>0</td>\n",
       "      <td>1</td>\n",
       "    </tr>\n",
       "    <tr>\n",
       "      <th>6715</th>\n",
       "      <td>投诉</td>\n",
       "      <td>鸭河工区管委会</td>\n",
       "      <td>已回复</td>\n",
       "      <td>2021-01-12</td>\n",
       "      <td>NaN</td>\n",
       "      <td>1</td>\n",
       "      <td>2021</td>\n",
       "      <td>0</td>\n",
       "      <td>0</td>\n",
       "      <td>0</td>\n",
       "      <td>1</td>\n",
       "      <td>0</td>\n",
       "    </tr>\n",
       "    <tr>\n",
       "      <th>6727</th>\n",
       "      <td>求助</td>\n",
       "      <td>鸭河工区管委会</td>\n",
       "      <td>已回复</td>\n",
       "      <td>2021-01-11</td>\n",
       "      <td>NaN</td>\n",
       "      <td>1</td>\n",
       "      <td>2021</td>\n",
       "      <td>0</td>\n",
       "      <td>0</td>\n",
       "      <td>0</td>\n",
       "      <td>0</td>\n",
       "      <td>1</td>\n",
       "    </tr>\n",
       "  </tbody>\n",
       "</table>\n",
       "<p>5784 rows × 12 columns</p>\n",
       "</div>"
      ],
      "text/plain": [
       "     consultCategory consultDepartment consultState consultDate  \\\n",
       "4997              投诉           不动产登记中心          已回复  2021-05-26   \n",
       "4206              投诉           不动产登记中心          已回复  2021-07-11   \n",
       "5748              投诉           不动产登记中心          已回复  2021-04-02   \n",
       "4160              投诉           不动产登记中心          已回复  2021-07-13   \n",
       "5763              求助           不动产登记中心          已回复  2021-04-01   \n",
       "...              ...               ...          ...         ...   \n",
       "6568              求助          南阳农业职业学院          未受理  2021-01-23   \n",
       "6671              投诉           鸭河工区管委会          已回复  2021-01-14   \n",
       "6674              求助           鸭河工区管委会          已回复  2021-01-14   \n",
       "6715              投诉           鸭河工区管委会          已回复  2021-01-12   \n",
       "6727              求助           鸭河工区管委会          已回复  2021-01-11   \n",
       "\n",
       "     answerDepartment  mounth  year  举报  咨询  建议  投诉  求助  \n",
       "4997          不动产登记中心       5  2021   0   0   0   1   0  \n",
       "4206          不动产登记中心       7  2021   0   0   0   1   0  \n",
       "5748          不动产登记中心       4  2021   0   0   0   1   0  \n",
       "4160          不动产登记中心       7  2021   0   0   0   1   0  \n",
       "5763          不动产登记中心       4  2021   0   0   0   0   1  \n",
       "...               ...     ...   ...  ..  ..  ..  ..  ..  \n",
       "6568              NaN       1  2021   0   0   0   0   1  \n",
       "6671              NaN       1  2021   0   0   0   1   0  \n",
       "6674              NaN       1  2021   0   0   0   0   1  \n",
       "6715              NaN       1  2021   0   0   0   1   0  \n",
       "6727              NaN       1  2021   0   0   0   0   1  \n",
       "\n",
       "[5784 rows x 12 columns]"
      ]
     },
     "execution_count": 24,
     "metadata": {},
     "output_type": "execute_result"
    }
   ],
   "source": [
    "usedData.join(pd.get_dummies(usedData.consultCategory))"
   ]
  },
  {
   "cell_type": "code",
   "execution_count": 25,
   "id": "0b34648a",
   "metadata": {},
   "outputs": [],
   "source": [
    "font={\n",
    "    'family':'SimSun',\n",
    "    'weight':'bold',\n",
    "    'size':'15'}\n",
    "matplotlib.rc('font',**font)"
   ]
  },
  {
   "cell_type": "markdown",
   "id": "72c4c4b3",
   "metadata": {},
   "source": [
    "<font size=5>图表展示</font>"
   ]
  },
  {
   "cell_type": "code",
   "execution_count": 26,
   "id": "a54869b8",
   "metadata": {},
   "outputs": [
    {
     "data": {
      "text/plain": [
       "Text(0, 0.5, '留言数')"
      ]
     },
     "execution_count": 26,
     "metadata": {},
     "output_type": "execute_result"
    },
    {
     "data": {
      "image/png": "[encoded data removed]",
      "text/plain": [
       "<Figure size 720x720 with 1 Axes>"
      ]
     },
     "metadata": {
      "needs_background": "light"
     },
     "output_type": "display_data"
    }
   ],
   "source": [
    "plt.figure(figsize=(10,10))\n",
    "x0=usedData.mounth.unique()\n",
    "x0.sort()\n",
    "X0=list(x0)\n",
    "Y0=[]\n",
    "for i0 in X0:\n",
    "    Y0.append(len(usedData[usedData.mounth==i0].mounth))\n",
    "plt.xticks(range(1,len(X0)+1),X0)\n",
    "plt.bar(X0,Y0,facecolor='orange')\n",
    "ax0=plt.gca()\n",
    "ax0.patch.set_facecolor(\"white\")             \n",
    "ax0.patch.set_alpha(0.5) \n",
    "ax0.spines['top'].set_color('none')\n",
    "ax0.spines['right'].set_color('none')\n",
    "for x,y in zip(X0,Y0):\n",
    "    plt.text(x,y,y,ha='center',va='bottom')\n",
    "plt.xlabel('月份',fontsize=20)\n",
    "plt.ylabel('留言数',fontsize=20)"
   ]
  },
  {
   "cell_type": "markdown",
   "id": "bdcc0025",
   "metadata": {},
   "source": [
    "<font size=5>由上图可以看出，2022年与2021年问政留言最频繁的月份为1月份，最少的月份为12月份</font>"
   ]
  },
  {
   "cell_type": "code",
   "execution_count": 27,
   "id": "70c7042f",
   "metadata": {},
   "outputs": [
    {
     "data": {
      "text/plain": [
       "Text(0, 0.5, '留言数')"
      ]
     },
     "execution_count": 27,
     "metadata": {},
     "output_type": "execute_result"
    },
    {
     "data": {
      "image/png": "[encoded data removed]",
      "text/plain": [
       "<Figure size 720x720 with 1 Axes>"
      ]
     },
     "metadata": {
      "needs_background": "light"
     },
     "output_type": "display_data"
    }
   ],
   "source": [
    "plt.figure(figsize=(10,10))\n",
    "X=list(usedData.consultCategory.unique())\n",
    "Y=[]\n",
    "for i in X:\n",
    "    Y.append(len(usedData[usedData.consultCategory==i].consultCategory))\n",
    "plt.bar(X,Y,facecolor='#9999ff',edgecolor='white')\n",
    "ax=plt.gca()\n",
    "ax.patch.set_facecolor(\"white\")             \n",
    "ax.patch.set_alpha(0.5) \n",
    "ax.spines['top'].set_color('none')\n",
    "ax.spines['right'].set_color('none')\n",
    "for x,y in zip(X,Y):\n",
    "    plt.text(x,y,y,ha='center',va='bottom')\n",
    "plt.xlabel('留言类型',fontsize=20)\n",
    "plt.ylabel('留言数',fontsize=20)"
   ]
  },
  {
   "cell_type": "markdown",
   "id": "5b86d6ed",
   "metadata": {},
   "source": [
    "<font size=5>上图可以得出结论，南阳市问政留言大部分为投诉留言</font>"
   ]
  },
  {
   "cell_type": "code",
   "execution_count": 28,
   "id": "225c58e6",
   "metadata": {},
   "outputs": [
    {
     "data": {
      "image/png": "[encoded data removed]",
      "text/plain": [
       "<Figure size 18000x720 with 1 Axes>"
      ]
     },
     "metadata": {
      "needs_background": "light"
     },
     "output_type": "display_data"
    }
   ],
   "source": [
    "plt.figure(figsize=(250,10))\n",
    "X1=list(usedData.consultDepartment.unique())\n",
    "Y1=[]\n",
    "for i in X1:\n",
    "    Y1.append(len(usedData[usedData.consultDepartment==i].consultDepartment))\n",
    "plt.bar(X1,Y1,facecolor='deepskyblue',edgecolor='white')\n",
    "ax1=plt.gca()\n",
    "ax1.patch.set_facecolor(\"white\")             \n",
    "ax1.patch.set_alpha(0.5) \n",
    "ax1.spines['top'].set_color('none')\n",
    "ax1.spines['right'].set_color('none')\n",
    "for x,y in zip(X1,Y1):\n",
    "    plt.text(x,y,y,ha='center',va='bottom')\n",
    "plt.xlabel('留言部门',fontsize=20)\n",
    "plt.ylabel('留言数',fontsize=20)\n",
    "plt.tick_params(labelsize=18)"
   ]
  },
  {
   "cell_type": "markdown",
   "id": "fdc96876",
   "metadata": {},
   "source": [
    "<font size=5>由上图可已看出收到问政留言最多最频繁的部门为卧龙区政府和宛城区政府</font>"
   ]
  },
  {
   "cell_type": "code",
   "execution_count": 29,
   "id": "1bb8db98",
   "metadata": {},
   "outputs": [
    {
     "data": {
      "text/plain": [
       "Text(0, 0.5, '留言数')"
      ]
     },
     "execution_count": 29,
     "metadata": {},
     "output_type": "execute_result"
    },
    {
     "data": {
      "image/png": "[encoded data removed]",
      "text/plain": [
       "<Figure size 720x720 with 1 Axes>"
      ]
     },
     "metadata": {
      "needs_background": "light"
     },
     "output_type": "display_data"
    }
   ],
   "source": [
    "plt.figure(figsize=(10,10))\n",
    "X2=list(usedData.consultState.unique())\n",
    "Y2=[]\n",
    "for i in X2:\n",
    "    Y2.append(len(usedData[usedData.consultState==i].consultState))\n",
    "plt.bar(X2,Y2,facecolor='green',edgecolor='white')\n",
    "ax1=plt.gca()\n",
    "ax1.patch.set_facecolor(\"white\")             \n",
    "ax1.patch.set_alpha(0.5) \n",
    "ax1.spines['top'].set_color('none')\n",
    "ax1.spines['right'].set_color('none')\n",
    "for x,y in zip(X2,Y2):\n",
    "    plt.text(x,y,y,ha='center',va='bottom')\n",
    "plt.xlabel('留言状态',fontsize=20)\n",
    "plt.ylabel('留言数',fontsize=20)"
   ]
  },
  {
   "cell_type": "markdown",
   "id": "dcb9c19a",
   "metadata": {},
   "source": [
    " <font size=5>由图以上图表可知，南阳市问政留言的回复率高达98.17%</font>"
   ]
  },
  {
   "cell_type": "code",
   "execution_count": 30,
   "id": "5cbe859d",
   "metadata": {},
   "outputs": [
    {
     "data": {
      "text/plain": [
       "Text(0, 0.5, '留言数')"
      ]
     },
     "execution_count": 30,
     "metadata": {},
     "output_type": "execute_result"
    },
    {
     "data": {
      "image/png": "[encoded data removed]",
      "text/plain": [
       "<Figure size 720x720 with 1 Axes>"
      ]
     },
     "metadata": {
      "needs_background": "light"
     },
     "output_type": "display_data"
    }
   ],
   "source": [
    "plt.figure(figsize=(10,10))\n",
    "X3=list(usedData.year.unique())\n",
    "Y3=[]\n",
    "for i in X3:\n",
    "    Y3.append(len(usedData[usedData.year==i].year))\n",
    "plt.bar(X3,Y3,facecolor='green',edgecolor='white')\n",
    "ax1=plt.gca()\n",
    "ax1.patch.set_facecolor(\"white\")             \n",
    "ax1.patch.set_alpha(0.5) \n",
    "ax1.spines['top'].set_color('none')\n",
    "ax1.spines['right'].set_color('none')\n",
    "for x,y in zip(X3,Y3):\n",
    "    plt.text(x,y,y,ha='center',va='bottom')\n",
    "plt.xlabel('留言状态',fontsize=20)\n",
    "plt.ylabel('留言数',fontsize=20)"
   ]
  },
  {
   "cell_type": "markdown",
   "id": "2af4ab83",
   "metadata": {},
   "source": [
    "<font size=5>由图表可以看出截止目前2022年的问政留言接近2021年的四分之一</font>"
   ]
  }
 ],
 "metadata": {
  "kernelspec": {
   "display_name": "Python 3 (ipykernel)",
   "language": "python",
   "name": "python3"
  },
  "language_info": {
   "codemirror_mode": {
    "name": "ipython",
    "version": 3
   },
   "file_extension": ".py",
   "mimetype": "text/x-python",
   "name": "python",
   "nbconvert_exporter": "python",
   "pygments_lexer": "ipython3",
   "version": "3.9.7"
  }
 },
 "nbformat": 4,
 "nbformat_minor": 5
}
